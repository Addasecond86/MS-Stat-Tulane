{
 "cells": [
  {
   "cell_type": "code",
   "execution_count": 1,
   "id": "b9130ec6",
   "metadata": {
    "ExecuteTime": {
     "end_time": "2022-11-07T20:15:34.895807Z",
     "start_time": "2022-11-07T20:15:34.541464Z"
    },
    "execution": {
     "iopub.execute_input": "2022-11-14T07:07:30.919760Z",
     "iopub.status.busy": "2022-11-14T07:07:30.919369Z",
     "iopub.status.idle": "2022-11-14T07:07:41.595320Z",
     "shell.execute_reply": "2022-11-14T07:07:41.595011Z",
     "shell.execute_reply.started": "2022-11-14T07:07:30.919685Z"
    }
   },
   "outputs": [],
   "source": [
    "import numpy as np\n",
    "import pandas as pd\n",
    "import seaborn as sns\n",
    "import matplotlib.pyplot as plt\n",
    "\n",
    "from tensorflow import keras\n",
    "from keras import layers\n",
    "from keras.utils.vis_utils import plot_model\n",
    "\n",
    "from sklearn import svm\n",
    "from sklearn import metrics\n",
    "from sklearn.decomposition import PCA\n",
    "from sklearn.preprocessing import MinMaxScaler\n",
    "from sklearn.metrics import classification_report\n",
    "from sklearn.linear_model import LogisticRegression\n",
    "from sklearn.model_selection import train_test_split\n",
    "\n",
    "from imblearn.under_sampling import RandomUnderSampler\n",
    "\n",
    "np.random.seed(20221107)"
   ]
  },
  {
   "cell_type": "code",
   "execution_count": 2,
   "id": "d18f9f14",
   "metadata": {
    "ExecuteTime": {
     "end_time": "2022-11-07T20:15:35.136373Z",
     "start_time": "2022-11-07T20:15:34.896859Z"
    },
    "execution": {
     "iopub.execute_input": "2022-11-14T07:33:29.105624Z",
     "iopub.status.busy": "2022-11-14T07:33:29.104704Z",
     "iopub.status.idle": "2022-11-14T07:33:29.518616Z",
     "shell.execute_reply": "2022-11-14T07:33:29.518282Z",
     "shell.execute_reply.started": "2022-11-14T07:33:29.105565Z"
    },
    "tags": []
   },
   "outputs": [
    {
     "name": "stdout",
     "output_type": "stream",
     "text": [
      "0    96318\n",
      "1    27392\n",
      "Name: RainTomorrow, dtype: int64\n",
      "0    0.778579\n",
      "1    0.221421\n",
      "Name: RainTomorrow, dtype: float64\n",
      "0    27392\n",
      "1    27392\n",
      "Name: RainTomorrow, dtype: int64\n",
      "0    0.5\n",
      "1    0.5\n",
      "Name: RainTomorrow, dtype: float64\n"
     ]
    }
   ],
   "source": [
    "# Load the data\n",
    "path = \"../data/weatherAUS.csv\"\n",
    "\n",
    "# Assign format to the date column\n",
    "data = pd.read_csv(\n",
    "    path,\n",
    "    dtype={\n",
    "        \"Location\": \"category\",\n",
    "        \"WindGustDir\": \"category\",\n",
    "        \"WindDir9am\": \"category\",\n",
    "        \"WindDir3pm\": \"category\",\n",
    "    },\n",
    ")\n",
    "\n",
    "# Convert to datetime format\n",
    "data[\"Date\"] = pd.to_datetime(data[\"Date\"])\n",
    "\n",
    "# Drop the rows with missing values\n",
    "data = data.dropna(\n",
    "    axis=0,\n",
    "    subset=[\n",
    "        \"RainTomorrow\",\n",
    "        \"RainToday\",\n",
    "        \"Location\",\n",
    "        \"WindGustDir\",\n",
    "        \"WindDir9am\",\n",
    "        \"WindDir3pm\",\n",
    "    ],\n",
    ")\n",
    "\n",
    "# Replace Yes and No with 1 and 0\n",
    "data[[\"RainToday\", \"RainTomorrow\"]] = data[[\"RainToday\", \"RainTomorrow\"]].replace(\n",
    "    \"Yes\", 1\n",
    ")\n",
    "data[[\"RainToday\", \"RainTomorrow\"]] = data[[\"RainToday\", \"RainTomorrow\"]].replace(\n",
    "    \"No\", 0\n",
    ")\n",
    "\n",
    "data[\"year\"] = pd.DatetimeIndex(data[\"Date\"]).year\n",
    "data[\"month\"] = pd.DatetimeIndex(data[\"Date\"]).month\n",
    "\n",
    "# For float64 columns, replace the missing values with the month median\n",
    "name = data.columns\n",
    "for j in name:\n",
    "    if data[j].dtypes == \"float64\":\n",
    "        fillNA = data.groupby([\"year\", \"month\"])[j].transform(\"median\")\n",
    "        ind = data[j].isna()\n",
    "        data.loc[data[j].isna(), j] = fillNA[ind]\n",
    "    elif data[j].dtypes == \"category\":\n",
    "        # Get the Dummy Variables for the categorical variables\n",
    "        dummy = pd.get_dummies(data[j], prefix=j)\n",
    "        data = pd.concat([data, dummy], axis=1)\n",
    "        del data[j]\n",
    "\n",
    "del data[\"year\"]\n",
    "del data[\"month\"]\n",
    "\n",
    "x = data.iloc[:, 1:]\n",
    "del x[\"RainTomorrow\"]\n",
    "\n",
    "del x[\"Humidity9am\"]\n",
    "\n",
    "x_columns = x.columns\n",
    "\n",
    "# Label\n",
    "y = data[\"RainTomorrow\"]\n",
    "\n",
    "print(y.value_counts())\n",
    "print(y.value_counts() / len(y))\n",
    "\n",
    "ros = RandomUnderSampler(random_state=0)\n",
    "x, y = ros.fit_resample(x, y)\n",
    "\n",
    "print(y.value_counts())\n",
    "print(y.value_counts() / len(y))\n",
    "\n",
    "# If you want to map the data to (0,1), uncomment the following two lines\n",
    "\n",
    "Mm = MinMaxScaler()\n",
    "x = Mm.fit_transform(x)\n",
    "\n",
    "# If you want to use PCA, uncomment the following two lines\n",
    "# If you don't use PCA, SVM will consume a long time\n",
    "\n",
    "# pca = PCA(n_components=0.95)\n",
    "# x = pca.fit_transform(x)\n",
    "\n",
    "# print(len(x[0]))\n",
    "\n",
    "# Split the data into training and testing sets\n",
    "x_train, x_test, y_train, y_test = train_test_split(x, y, test_size=0.2)"
   ]
  },
  {
   "cell_type": "code",
   "execution_count": 3,
   "id": "fbb7c267",
   "metadata": {},
   "outputs": [],
   "source": [
    "font1 = {\n",
    "    \"family\": \"Times New Roman\",\n",
    "    \"weight\": \"normal\",\n",
    "    \"size\": 16,\n",
    "}"
   ]
  },
  {
   "cell_type": "code",
   "execution_count": 4,
   "id": "18017940",
   "metadata": {
    "ExecuteTime": {
     "end_time": "2022-11-07T20:15:35.144900Z",
     "start_time": "2022-11-07T20:15:35.138176Z"
    },
    "execution": {
     "iopub.execute_input": "2022-11-14T07:07:42.104408Z",
     "iopub.status.busy": "2022-11-14T07:07:42.104291Z",
     "iopub.status.idle": "2022-11-14T07:07:46.499293Z",
     "shell.execute_reply": "2022-11-14T07:07:46.498871Z",
     "shell.execute_reply.started": "2022-11-14T07:07:42.104399Z"
    },
    "tags": []
   },
   "outputs": [
    {
     "name": "stdout",
     "output_type": "stream",
     "text": [
      "Test Accuracy: 0.7965684037601534 \n",
      "Train Accuracy:  0.7982065849818605\n"
     ]
    },
    {
     "data": {
      "image/png": "[encoded data removed]",
      "text/plain": [
       "<Figure size 432x288 with 1 Axes>"
      ]
     },
     "metadata": {
      "needs_background": "light"
     },
     "output_type": "display_data"
    },
    {
     "name": "stdout",
     "output_type": "stream",
     "text": [
      "              precision    recall  f1-score   support\n",
      "\n",
      " Not Raining       0.79      0.81      0.80      5498\n",
      "     Raining       0.81      0.78      0.79      5459\n",
      "\n",
      "    accuracy                           0.80     10957\n",
      "   macro avg       0.80      0.80      0.80     10957\n",
      "weighted avg       0.80      0.80      0.80     10957\n",
      "\n"
     ]
    }
   ],
   "source": [
    "# Logistic Regression\n",
    "logreg = LogisticRegression(max_iter=3000)\n",
    "logreg.fit(x_train, y_train)\n",
    "\n",
    "y_pred = logreg.predict(x_test)\n",
    "\n",
    "print(\n",
    "    \"Test Accuracy:\",\n",
    "    metrics.accuracy_score(y_test, y_pred),\n",
    "    \"\\nTrain Accuracy: \",\n",
    "    metrics.accuracy_score(y_train, logreg.predict(x_train)),\n",
    ")\n",
    "\n",
    "# Confusion Matrix\n",
    "cnf_matrix = metrics.confusion_matrix(y_test, y_pred)\n",
    "\n",
    "class_names = [0, 1]\n",
    "fig, ax = plt.subplots()\n",
    "tick_marks = np.arange(len(class_names))\n",
    "plt.xticks(tick_marks, class_names)\n",
    "plt.yticks(tick_marks, class_names)\n",
    "sns.heatmap(pd.DataFrame(cnf_matrix), annot=True, cmap=\"YlGnBu\", fmt=\"g\", cbar=False)\n",
    "ax.xaxis.set_label_position(\"top\")\n",
    "plt.tight_layout()\n",
    "plt.ylabel(\"Actual label\", font1)\n",
    "plt.xlabel(\"Predicted label\", font1)\n",
    "\n",
    "\n",
    "plt.tick_params(labelsize=15)\n",
    "labels = ax.get_xticklabels() + ax.get_yticklabels()\n",
    "[label.set_fontname(\"Times New Roman\") for label in labels]\n",
    "\n",
    "plt.savefig(\"Logit_confusion_matrix_undersampling.eps\", bbox_inches=\"tight\")\n",
    "\n",
    "plt.show()\n",
    "\n",
    "# Classification Report\n",
    "target_names = [\"Not Raining\", \"Raining\"]\n",
    "print(classification_report(y_test, y_pred, target_names=target_names))"
   ]
  },
  {
   "cell_type": "code",
   "execution_count": 5,
   "id": "325cae1c-5205-4a86-8620-bddb19768daa",
   "metadata": {
    "execution": {
     "iopub.execute_input": "2022-11-14T07:33:48.794111Z",
     "iopub.status.busy": "2022-11-14T07:33:48.793239Z",
     "iopub.status.idle": "2022-11-14T07:33:48.807399Z",
     "shell.execute_reply": "2022-11-14T07:33:48.806559Z",
     "shell.execute_reply.started": "2022-11-14T07:33:48.794065Z"
    },
    "tags": []
   },
   "outputs": [
    {
     "name": "stdout",
     "output_type": "stream",
     "text": [
      "Pressure3pm -8.863904122540017 8.863904122540017\n",
      "WindGustSpeed 7.7723940556909294 7.7723940556909294\n",
      "Humidity3pm 5.863606960929531 5.863606960929531\n",
      "Pressure9am 5.311255083992738 5.311255083992738\n",
      "Rainfall 2.4220439489704604 2.4220439489704604\n",
      "MaxTemp -2.0023565388651914 2.0023565388651914\n",
      "WindSpeed3pm -1.9225572595574572 1.9225572595574572\n",
      "Sunshine -1.7465478612426009 1.7465478612426009\n",
      "Temp9am 1.4280457441082206 1.4280457441082206\n",
      "Temp3pm 1.3525325715943848 1.3525325715943848\n"
     ]
    }
   ],
   "source": [
    "for i in np.argsort(np.abs(logreg.coef_[0]))[-1:-11:-1]: \n",
    "    print(x_columns[i], logreg.coef_[0][i], np.abs(logreg.coef_[0][i]))"
   ]
  },
  {
   "cell_type": "code",
   "execution_count": 6,
   "id": "2278f514",
   "metadata": {
    "ExecuteTime": {
     "end_time": "2022-11-07T20:15:35.298575Z",
     "start_time": "2022-11-07T20:15:35.147802Z"
    }
   },
   "outputs": [
    {
     "name": "stdout",
     "output_type": "stream",
     "text": [
      "Test Accuracy: 0.7998539746280916 \n",
      "Train Accuracy:  0.7987998265909143\n"
     ]
    },
    {
     "data": {
      "image/png": "[encoded data removed]",
      "text/plain": [
       "<Figure size 432x288 with 1 Axes>"
      ]
     },
     "metadata": {
      "needs_background": "light"
     },
     "output_type": "display_data"
    },
    {
     "name": "stdout",
     "output_type": "stream",
     "text": [
      "              precision    recall  f1-score   support\n",
      "\n",
      " Not Raining       0.79      0.82      0.80      5498\n",
      "     Raining       0.81      0.78      0.80      5459\n",
      "\n",
      "    accuracy                           0.80     10957\n",
      "   macro avg       0.80      0.80      0.80     10957\n",
      "weighted avg       0.80      0.80      0.80     10957\n",
      "\n"
     ]
    }
   ],
   "source": [
    "# SVM\n",
    "clf = svm.SVC(kernel=\"linear\")\n",
    "\n",
    "clf.fit(x_train, y_train)\n",
    "\n",
    "y_pred = clf.predict(x_test)\n",
    "\n",
    "print(\n",
    "    \"Test Accuracy:\",\n",
    "    metrics.accuracy_score(y_test, y_pred),\n",
    "    \"\\nTrain Accuracy: \",\n",
    "    metrics.accuracy_score(y_train, clf.predict(x_train)),\n",
    ")\n",
    "\n",
    "cnf_matrix = metrics.confusion_matrix(y_test, y_pred)\n",
    "\n",
    "class_names = [0, 1]\n",
    "fig, ax = plt.subplots()\n",
    "tick_marks = np.arange(len(class_names))\n",
    "plt.xticks(tick_marks, class_names)\n",
    "plt.yticks(tick_marks, class_names)\n",
    "sns.heatmap(pd.DataFrame(cnf_matrix), annot=True, cmap=\"YlGnBu\", fmt=\"g\", cbar=False)\n",
    "ax.xaxis.set_label_position(\"top\")\n",
    "plt.tight_layout()\n",
    "plt.ylabel(\"Actual label\", font1)\n",
    "plt.xlabel(\"Predicted label\", font1)\n",
    "\n",
    "\n",
    "plt.tick_params(labelsize=15)\n",
    "labels = ax.get_xticklabels() + ax.get_yticklabels()\n",
    "[label.set_fontname(\"Times New Roman\") for label in labels]\n",
    "\n",
    "plt.savefig(\"SVM_confusion_matrix_undersampling.eps\", bbox_inches=\"tight\")\n",
    "\n",
    "plt.show()\n",
    "\n",
    "target_names = [\"Not Raining\", \"Raining\"]\n",
    "print(classification_report(y_test, y_pred, target_names=target_names))"
   ]
  },
  {
   "cell_type": "code",
   "execution_count": 7,
   "id": "8a485780",
   "metadata": {
    "ExecuteTime": {
     "end_time": "2022-11-07T20:15:35.309613Z",
     "start_time": "2022-11-07T20:15:35.300886Z"
    }
   },
   "outputs": [
    {
     "name": "stdout",
     "output_type": "stream",
     "text": [
      "Test Accuracy: 0.8086154969425938 \n",
      "Train Accuracy:  0.8468067629543432\n"
     ]
    },
    {
     "data": {
      "image/png": "[encoded data removed]",
      "text/plain": [
       "<Figure size 432x288 with 1 Axes>"
      ]
     },
     "metadata": {
      "needs_background": "light"
     },
     "output_type": "display_data"
    },
    {
     "name": "stdout",
     "output_type": "stream",
     "text": [
      "              precision    recall  f1-score   support\n",
      "\n",
      " Not Raining       0.80      0.82      0.81      5498\n",
      "     Raining       0.82      0.79      0.81      5459\n",
      "\n",
      "    accuracy                           0.81     10957\n",
      "   macro avg       0.81      0.81      0.81     10957\n",
      "weighted avg       0.81      0.81      0.81     10957\n",
      "\n"
     ]
    }
   ],
   "source": [
    "# SVM with polynomial kernel\n",
    "clf = svm.SVC(kernel=\"poly\")\n",
    "\n",
    "clf.fit(x_train, y_train)\n",
    "\n",
    "y_pred = clf.predict(x_test)\n",
    "\n",
    "print(\n",
    "    \"Test Accuracy:\",\n",
    "    metrics.accuracy_score(y_test, y_pred),\n",
    "    \"\\nTrain Accuracy: \",\n",
    "    metrics.accuracy_score(y_train, clf.predict(x_train)),\n",
    ")\n",
    "\n",
    "cnf_matrix = metrics.confusion_matrix(y_test, y_pred)\n",
    "\n",
    "class_names = [0, 1]\n",
    "fig, ax = plt.subplots()\n",
    "tick_marks = np.arange(len(class_names))\n",
    "plt.xticks(tick_marks, class_names)\n",
    "plt.yticks(tick_marks, class_names)\n",
    "sns.heatmap(pd.DataFrame(cnf_matrix), annot=True, cmap=\"YlGnBu\", fmt=\"g\", cbar=False)\n",
    "ax.xaxis.set_label_position(\"top\")\n",
    "plt.tight_layout()\n",
    "plt.ylabel(\"Actual label\", font1)\n",
    "plt.xlabel(\"Predicted label\", font1)\n",
    "\n",
    "\n",
    "plt.tick_params(labelsize=15)\n",
    "labels = ax.get_xticklabels() + ax.get_yticklabels()\n",
    "[label.set_fontname(\"Times New Roman\") for label in labels]\n",
    "\n",
    "plt.savefig(\"SVM_poly_confusion_matrix_undersampling.eps\", bbox_inches=\"tight\")\n",
    "\n",
    "plt.show()\n",
    "\n",
    "target_names = [\"Not Raining\", \"Raining\"]\n",
    "print(classification_report(y_test, y_pred, target_names=target_names))"
   ]
  },
  {
   "cell_type": "code",
   "execution_count": 8,
   "id": "cfc96679",
   "metadata": {
    "ExecuteTime": {
     "end_time": "2022-11-07T20:15:39.163088Z",
     "start_time": "2022-11-07T20:15:35.311801Z"
    }
   },
   "outputs": [
    {
     "name": "stdout",
     "output_type": "stream",
     "text": [
      "Test Accuracy: 0.8076115725107237 \n",
      "Train Accuracy:  0.8382732105779542\n"
     ]
    },
    {
     "data": {
      "image/png": "[encoded data removed]",
      "text/plain": [
       "<Figure size 432x288 with 1 Axes>"
      ]
     },
     "metadata": {
      "needs_background": "light"
     },
     "output_type": "display_data"
    },
    {
     "name": "stdout",
     "output_type": "stream",
     "text": [
      "              precision    recall  f1-score   support\n",
      "\n",
      " Not Raining       0.80      0.82      0.81      5498\n",
      "     Raining       0.81      0.80      0.81      5459\n",
      "\n",
      "    accuracy                           0.81     10957\n",
      "   macro avg       0.81      0.81      0.81     10957\n",
      "weighted avg       0.81      0.81      0.81     10957\n",
      "\n"
     ]
    }
   ],
   "source": [
    "# SVM with rbf kernel\n",
    "\n",
    "clf = svm.SVC(kernel=\"rbf\")\n",
    "\n",
    "clf.fit(x_train, y_train)\n",
    "\n",
    "y_pred = clf.predict(x_test)\n",
    "\n",
    "print(\n",
    "    \"Test Accuracy:\",\n",
    "    metrics.accuracy_score(y_test, y_pred),\n",
    "    \"\\nTrain Accuracy: \",\n",
    "    metrics.accuracy_score(y_train, clf.predict(x_train)),\n",
    ")\n",
    "\n",
    "cnf_matrix = metrics.confusion_matrix(y_test, y_pred)\n",
    "\n",
    "class_names = [0, 1]\n",
    "fig, ax = plt.subplots()\n",
    "tick_marks = np.arange(len(class_names))\n",
    "plt.xticks(tick_marks, class_names)\n",
    "plt.yticks(tick_marks, class_names)\n",
    "sns.heatmap(pd.DataFrame(cnf_matrix), annot=True, cmap=\"YlGnBu\", fmt=\"g\", cbar=False)\n",
    "ax.xaxis.set_label_position(\"top\")\n",
    "plt.tight_layout()\n",
    "plt.ylabel(\"Actual label\", font1)\n",
    "plt.xlabel(\"Predicted label\", font1)\n",
    "\n",
    "\n",
    "plt.tick_params(labelsize=15)\n",
    "labels = ax.get_xticklabels() + ax.get_yticklabels()\n",
    "[label.set_fontname(\"Times New Roman\") for label in labels]\n",
    "\n",
    "plt.savefig(\"SVM_gauss_confusion_matrix_undersampling.eps\",\n",
    "            bbox_inches=\"tight\")\n",
    "\n",
    "plt.show()\n",
    "\n",
    "target_names = [\"Not Raining\", \"Raining\"]\n",
    "print(classification_report(y_test, y_pred, target_names=target_names))"
   ]
  },
  {
   "cell_type": "code",
   "execution_count": 9,
   "id": "5ac7280d",
   "metadata": {
    "ExecuteTime": {
     "end_time": "2022-11-07T20:15:39.250870Z",
     "start_time": "2022-11-07T20:15:39.165543Z"
    }
   },
   "outputs": [
    {
     "name": "stdout",
     "output_type": "stream",
     "text": [
      "343/343 [==============================] - 1s 2ms/step\n",
      "Test Accuracy: 0.8062425846490828\n"
     ]
    },
    {
     "name": "stderr",
     "output_type": "stream",
     "text": [
      "The PostScript backend does not support transparency; partially transparent artists will be rendered opaque.\n"
     ]
    },
    {
     "data": {
      "image/png": "[encoded data removed]",
      "text/plain": [
       "<Figure size 432x288 with 1 Axes>"
      ]
     },
     "metadata": {
      "needs_background": "light"
     },
     "output_type": "display_data"
    },
    {
     "name": "stdout",
     "output_type": "stream",
     "text": [
      "Epoch 1/20\n",
      "168/168 [==============================] - 2s 10ms/step - loss: 0.5624 - accuracy: 0.7151 - val_loss: 0.4662 - val_accuracy: 0.7980\n",
      "Epoch 2/20\n",
      "168/168 [==============================] - 1s 9ms/step - loss: 0.4850 - accuracy: 0.7681 - val_loss: 0.4506 - val_accuracy: 0.7980\n",
      "Epoch 3/20\n",
      "168/168 [==============================] - 2s 9ms/step - loss: 0.4685 - accuracy: 0.7788 - val_loss: 0.4323 - val_accuracy: 0.8060\n",
      "Epoch 4/20\n",
      "168/168 [==============================] - 1s 9ms/step - loss: 0.4577 - accuracy: 0.7837 - val_loss: 0.4283 - val_accuracy: 0.8060\n",
      "Epoch 5/20\n",
      "168/168 [==============================] - 2s 9ms/step - loss: 0.4506 - accuracy: 0.7883 - val_loss: 0.4254 - val_accuracy: 0.8160\n",
      "Epoch 6/20\n",
      "168/168 [==============================] - 1s 9ms/step - loss: 0.4425 - accuracy: 0.7949 - val_loss: 0.4181 - val_accuracy: 0.8130\n",
      "Epoch 7/20\n",
      "168/168 [==============================] - 1s 9ms/step - loss: 0.4352 - accuracy: 0.7974 - val_loss: 0.4137 - val_accuracy: 0.8160\n",
      "Epoch 8/20\n",
      "168/168 [==============================] - 1s 9ms/step - loss: 0.4319 - accuracy: 0.7997 - val_loss: 0.4084 - val_accuracy: 0.8240\n",
      "Epoch 9/20\n",
      "168/168 [==============================] - 1s 9ms/step - loss: 0.4263 - accuracy: 0.8035 - val_loss: 0.4057 - val_accuracy: 0.8200\n",
      "Epoch 10/20\n",
      "168/168 [==============================] - 1s 9ms/step - loss: 0.4231 - accuracy: 0.8048 - val_loss: 0.4032 - val_accuracy: 0.8250\n",
      "Epoch 11/20\n",
      "168/168 [==============================] - 1s 8ms/step - loss: 0.4182 - accuracy: 0.8080 - val_loss: 0.3993 - val_accuracy: 0.8300\n",
      "Epoch 12/20\n",
      "168/168 [==============================] - 1s 8ms/step - loss: 0.4153 - accuracy: 0.8093 - val_loss: 0.3977 - val_accuracy: 0.8290\n",
      "Epoch 13/20\n",
      "168/168 [==============================] - 1s 9ms/step - loss: 0.4131 - accuracy: 0.8107 - val_loss: 0.3981 - val_accuracy: 0.8210\n",
      "Epoch 14/20\n",
      "168/168 [==============================] - 1s 8ms/step - loss: 0.4099 - accuracy: 0.8129 - val_loss: 0.4004 - val_accuracy: 0.8230\n",
      "Epoch 15/20\n",
      "168/168 [==============================] - 2s 9ms/step - loss: 0.4067 - accuracy: 0.8156 - val_loss: 0.3923 - val_accuracy: 0.8220\n",
      "Epoch 16/20\n",
      "168/168 [==============================] - 2s 10ms/step - loss: 0.4057 - accuracy: 0.8155 - val_loss: 0.4027 - val_accuracy: 0.8280\n",
      "Epoch 17/20\n",
      "168/168 [==============================] - 2s 10ms/step - loss: 0.4033 - accuracy: 0.8163 - val_loss: 0.4009 - val_accuracy: 0.8270\n",
      "Epoch 18/20\n",
      "168/168 [==============================] - 1s 9ms/step - loss: 0.4007 - accuracy: 0.8181 - val_loss: 0.3934 - val_accuracy: 0.8300\n",
      "Epoch 19/20\n",
      "168/168 [==============================] - 1s 9ms/step - loss: 0.3998 - accuracy: 0.8177 - val_loss: 0.3916 - val_accuracy: 0.8320\n",
      "Epoch 20/20\n",
      "168/168 [==============================] - 1s 9ms/step - loss: 0.3968 - accuracy: 0.8187 - val_loss: 0.3929 - val_accuracy: 0.8310\n",
      "343/343 [==============================] - 1s 2ms/step\n",
      "Test Accuracy: 0.807520306653281\n"
     ]
    },
    {
     "name": "stderr",
     "output_type": "stream",
     "text": [
      "The PostScript backend does not support transparency; partially transparent artists will be rendered opaque.\n"
     ]
    },
    {
     "data": {
      "image/png": "[encoded data removed]",
      "text/plain": [
       "<Figure size 432x288 with 1 Axes>"
      ]
     },
     "metadata": {
      "needs_background": "light"
     },
     "output_type": "display_data"
    },
    {
     "name": "stdout",
     "output_type": "stream",
     "text": [
      "              precision    recall  f1-score   support\n",
      "\n",
      " Not Raining       0.82      0.79      0.80      5498\n",
      "     Raining       0.80      0.83      0.81      5459\n",
      "\n",
      "    accuracy                           0.81     10957\n",
      "   macro avg       0.81      0.81      0.81     10957\n",
      "weighted avg       0.81      0.81      0.81     10957\n",
      "\n"
     ]
    },
    {
     "data": {
      "image/png": "[encoded data removed]",
      "text/plain": [
       "<Figure size 432x288 with 1 Axes>"
      ]
     },
     "metadata": {
      "needs_background": "light"
     },
     "output_type": "display_data"
    }
   ],
   "source": [
    "# Split validation set\n",
    "x_val = x_train[:1000]\n",
    "partial_x_train = x_train[1000:]\n",
    "y_val = y_train.iloc[:1000]\n",
    "partial_y_train = y_train.iloc[1000:]\n",
    "\n",
    "# Build network\n",
    "model = keras.Sequential(\n",
    "    [\n",
    "        layers.Dense(64, activation=\"relu\",),\n",
    "        layers.Dropout(0.2),\n",
    "        layers.Dense(16, activation=\"relu\"),\n",
    "        layers.Dropout(0.1),\n",
    "        layers.Dense(1, activation=\"sigmoid\"),\n",
    "    ]\n",
    "\n",
    ")\n",
    "\n",
    "# Set optimizer, loss function and metrics\n",
    "model.compile(optimizer=\"rmsprop\", loss=\"binary_crossentropy\", metrics=[\"accuracy\"])\n",
    "\n",
    "# Train model\n",
    "history = model.fit(\n",
    "    partial_x_train,\n",
    "    partial_y_train,\n",
    "    epochs=50,\n",
    "    batch_size=256,\n",
    "    validation_data=(x_val, y_val),\n",
    "    verbose=0\n",
    ")\n",
    "\n",
    "# Calculate accuracy\n",
    "y_pred_proba = model.predict(x_test)\n",
    "\n",
    "y_pred = list()\n",
    "\n",
    "for i in y_pred_proba[:, 0]:\n",
    "    if i > 0.5:\n",
    "        y_pred.append(1)\n",
    "    else:\n",
    "        y_pred.append(0)\n",
    "\n",
    "print(\"Test Accuracy:\", metrics.accuracy_score(y_test, y_pred))\n",
    "\n",
    "# Plot training and validation loss\n",
    "history_dict = history.history\n",
    "loss_values = history_dict[\"loss\"]\n",
    "val_loss_values = history_dict[\"val_loss\"]\n",
    "epochs = range(1, len(loss_values) + 1)\n",
    "plt.plot(epochs, loss_values, \"r\", label=\"Training loss\")\n",
    "plt.plot(epochs, val_loss_values, \"b.\", label=\"Validation loss\")\n",
    "plt.title(\"Training and validation loss\")\n",
    "plt.xlabel(\"Epochs\")\n",
    "plt.ylabel(\"Loss\")\n",
    "plt.legend()\n",
    "plt.savefig(\"error_50.eps\", bbox_inches=\"tight\")\n",
    "plt.show()\n",
    "\n",
    "# Retrain model with 20 epochs\n",
    "model = keras.Sequential(\n",
    "    [\n",
    "        layers.Dense(64, activation=\"relu\",),\n",
    "        layers.Dropout(0.2),\n",
    "        layers.Dense(16, activation=\"relu\"),\n",
    "        layers.Dropout(0.1),\n",
    "        layers.Dense(1, activation=\"sigmoid\"),\n",
    "    ]\n",
    ")\n",
    "model.compile(optimizer=\"rmsprop\", loss=\"binary_crossentropy\", metrics=[\"accuracy\"])\n",
    "\n",
    "history = model.fit(\n",
    "    partial_x_train,\n",
    "    partial_y_train,\n",
    "    epochs=20,\n",
    "    batch_size=256,\n",
    "    validation_data=(x_val, y_val),\n",
    ")\n",
    "\n",
    "y_pred_proba = model.predict(x_test)\n",
    "\n",
    "y_pred = list()\n",
    "\n",
    "for i in y_pred_proba[:, 0]:\n",
    "    if i > 0.5:\n",
    "        y_pred.append(1)\n",
    "    else:\n",
    "        y_pred.append(0)\n",
    "\n",
    "print(\"Test Accuracy:\", metrics.accuracy_score(y_test, y_pred))\n",
    "\n",
    "history_dict = history.history\n",
    "loss_values = history_dict[\"loss\"]\n",
    "val_loss_values = history_dict[\"val_loss\"]\n",
    "epochs = range(1, len(loss_values) + 1)\n",
    "plt.plot(epochs, loss_values, \"bo\", label=\"Training loss\")\n",
    "plt.plot(epochs, val_loss_values, \"b\", label=\"Validation loss\")\n",
    "plt.title(\"Training and validation loss\")\n",
    "plt.xlabel(\"Epochs\")\n",
    "plt.ylabel(\"Loss\")\n",
    "plt.legend()\n",
    "plt.savefig(\"error_20.eps\", bbox_inches=\"tight\")\n",
    "plt.show()\n",
    "\n",
    "target_names = [\"Not Raining\", \"Raining\"]\n",
    "print(classification_report(y_test, y_pred, target_names=target_names))\n",
    "\n",
    "cnf_matrix = metrics.confusion_matrix(y_test, y_pred)\n",
    "\n",
    "class_names = [0, 1]\n",
    "fig, ax = plt.subplots()\n",
    "tick_marks = np.arange(len(class_names))\n",
    "plt.xticks(tick_marks, class_names)\n",
    "plt.yticks(tick_marks, class_names)\n",
    "# create heatmap\n",
    "sns.heatmap(pd.DataFrame(cnf_matrix), annot=True, cmap=\"YlGnBu\", fmt=\"g\", cbar=False)\n",
    "ax.xaxis.set_label_position(\"top\")\n",
    "plt.tight_layout()\n",
    "plt.ylabel(\"Actual label\", font1)\n",
    "plt.xlabel(\"Predicted label\", font1)\n",
    "\n",
    "\n",
    "plt.tick_params(labelsize=15)\n",
    "labels = ax.get_xticklabels() + ax.get_yticklabels()\n",
    "[label.set_fontname(\"Times New Roman\") for label in labels]\n",
    "\n",
    "plt.savefig(\"FC_confusion_matrix.eps\", bbox_inches=\"tight\")\n",
    "\n",
    "plt.show()"
   ]
  },
  {
   "cell_type": "code",
   "execution_count": 10,
   "id": "25146273",
   "metadata": {
    "ExecuteTime": {
     "end_time": "2022-11-07T20:15:39.309662Z",
     "start_time": "2022-11-07T20:15:39.262493Z"
    }
   },
   "outputs": [
    {
     "data": {
      "image/png": "[encoded data removed]",
      "text/plain": [
       "<IPython.core.display.Image object>"
      ]
     },
     "execution_count": 10,
     "metadata": {},
     "output_type": "execute_result"
    }
   ],
   "source": [
    "# Plot the Neural Network Structure\n",
    "plot_model(model, to_file=\"Network_structure.png\", show_shapes=True)"
   ]
  },
  {
   "cell_type": "code",
   "execution_count": null,
   "id": "c6190ff9-fecc-4581-bd1c-ac780bad36ed",
   "metadata": {},
   "outputs": [],
   "source": []
  }
 ],
 "metadata": {
  "kernelspec": {
   "display_name": "Python 3.9.13 ('env_project')",
   "language": "python",
   "name": "python3"
  },
  "language_info": {
   "codemirror_mode": {
    "name": "ipython",
    "version": 3
   },
   "file_extension": ".py",
   "mimetype": "text/x-python",
   "name": "python",
   "nbconvert_exporter": "python",
   "pygments_lexer": "ipython3",
   "version": "3.9.13"
  },
  "vscode": {
   "interpreter": {
    "hash": "20d169c8f3383972843a2ec99a9254daa6f07463b87b5214e8f06a7aa90f24a9"
   }
  }
 },
 "nbformat": 4,
 "nbformat_minor": 5
}
