{
 "cells": [
  {
   "cell_type": "code",
   "execution_count": 1,
   "id": "b9130ec6",
   "metadata": {
    "ExecuteTime": {
     "end_time": "2022-11-07T20:15:34.895807Z",
     "start_time": "2022-11-07T20:15:34.541464Z"
    },
    "execution": {
     "iopub.execute_input": "2022-11-14T07:07:30.919760Z",
     "iopub.status.busy": "2022-11-14T07:07:30.919369Z",
     "iopub.status.idle": "2022-11-14T07:07:41.595320Z",
     "shell.execute_reply": "2022-11-14T07:07:41.595011Z",
     "shell.execute_reply.started": "2022-11-14T07:07:30.919685Z"
    }
   },
   "outputs": [],
   "source": [
    "import numpy as np\n",
    "import pandas as pd\n",
    "import seaborn as sns\n",
    "import matplotlib.pyplot as plt\n",
    "\n",
    "from tensorflow import keras\n",
    "from keras import layers\n",
    "from keras.utils.vis_utils import plot_model\n",
    "\n",
    "from sklearn import svm\n",
    "from sklearn import metrics\n",
    "from sklearn.decomposition import PCA\n",
    "from sklearn.preprocessing import MinMaxScaler\n",
    "from sklearn.metrics import classification_report\n",
    "from sklearn.linear_model import LogisticRegression\n",
    "from sklearn.model_selection import train_test_split\n",
    "\n",
    "from imblearn.under_sampling import RandomUnderSampler\n",
    "\n",
    "np.random.seed(20221107)"
   ]
  },
  {
   "cell_type": "code",
   "execution_count": 2,
   "id": "d18f9f14",
   "metadata": {
    "ExecuteTime": {
     "end_time": "2022-11-07T20:15:35.136373Z",
     "start_time": "2022-11-07T20:15:34.896859Z"
    },
    "execution": {
     "iopub.execute_input": "2022-11-14T07:33:29.105624Z",
     "iopub.status.busy": "2022-11-14T07:33:29.104704Z",
     "iopub.status.idle": "2022-11-14T07:33:29.518616Z",
     "shell.execute_reply": "2022-11-14T07:33:29.518282Z",
     "shell.execute_reply.started": "2022-11-14T07:33:29.105565Z"
    },
    "tags": []
   },
   "outputs": [
    {
     "name": "stdout",
     "output_type": "stream",
     "text": [
      "0    12427\n",
      "1    12427\n",
      "Name: RainTomorrow, dtype: int64\n",
      "0    0.5\n",
      "1    0.5\n",
      "Name: RainTomorrow, dtype: float64\n",
      "115\n"
     ]
    }
   ],
   "source": [
    "# Load the data\n",
    "path = \"../data/weatherAUS.csv\"\n",
    "\n",
    "# Assign format to the date column\n",
    "data = pd.read_csv(\n",
    "    path,\n",
    "    dtype={\n",
    "        \"Location\": \"category\",\n",
    "        \"WindGustDir\": \"category\",\n",
    "        \"WindDir9am\": \"category\",\n",
    "        \"WindDir3pm\": \"category\",\n",
    "        \"RainToday\": \"category\",\n",
    "    },\n",
    ")\n",
    "\n",
    "# Convert to datetime format\n",
    "data[\"Date\"] = pd.to_datetime(data[\"Date\"])\n",
    "\n",
    "# Drop the rows with missing values\n",
    "data = data.dropna(\n",
    "    axis=0\n",
    ")\n",
    "\n",
    "# Replace Yes and No with 1 and 0\n",
    "data[\"RainTomorrow\"] = data[\"RainTomorrow\"].replace(\n",
    "    \"Yes\", 1\n",
    ")\n",
    "data[\"RainTomorrow\"] = data[\"RainTomorrow\"].replace(\n",
    "    \"No\", 0\n",
    ")\n",
    "\n",
    "name = data.columns\n",
    "\n",
    "for j in name:\n",
    "    if data[j].dtypes == \"category\":\n",
    "        # Get the Dummy Variables for the categorical variables\n",
    "        dummy = pd.get_dummies(data[j], prefix=j)\n",
    "        data = pd.concat([data, dummy], axis=1)\n",
    "        del data[j]\n",
    "\n",
    "x = data.iloc[:, 1:]\n",
    "del x[\"RainTomorrow\"]\n",
    "\n",
    "\n",
    "x_columns = x.columns\n",
    "\n",
    "# Label\n",
    "y = data[\"RainTomorrow\"]\n",
    "\n",
    "# print(y.value_counts())\n",
    "# print(y.value_counts() / len(y))\n",
    "\n",
    "ros = RandomUnderSampler(random_state=0)\n",
    "x, y = ros.fit_resample(x, y)\n",
    "\n",
    "print(y.value_counts())\n",
    "print(y.value_counts() / len(y))\n",
    "\n",
    "# If you want to map the data to (0,1), uncomment the following two lines\n",
    "\n",
    "Mm = MinMaxScaler()\n",
    "x = Mm.fit_transform(x)\n",
    "\n",
    "# If you want to use PCA, uncomment the following two lines\n",
    "# If you don't use PCA, SVM will consume a long time\n",
    "\n",
    "# pca = PCA(n_components=0.95)\n",
    "# x = pca.fit_transform(x)\n",
    "\n",
    "print(len(x[0]))\n",
    "\n",
    "# Split the data into training and testing sets\n",
    "x_train, x_test, y_train, y_test = train_test_split(x, y, test_size=0.2)"
   ]
  },
  {
   "cell_type": "code",
   "execution_count": 3,
   "id": "fbb7c267",
   "metadata": {},
   "outputs": [],
   "source": [
    "font1 = {\n",
    "    \"family\": \"Times New Roman\",\n",
    "    \"weight\": \"normal\",\n",
    "    \"size\": 16,\n",
    "}"
   ]
  },
  {
   "cell_type": "code",
   "execution_count": null,
   "id": "18017940",
   "metadata": {
    "ExecuteTime": {
     "end_time": "2022-11-07T20:15:35.144900Z",
     "start_time": "2022-11-07T20:15:35.138176Z"
    },
    "execution": {
     "iopub.execute_input": "2022-11-14T07:07:42.104408Z",
     "iopub.status.busy": "2022-11-14T07:07:42.104291Z",
     "iopub.status.idle": "2022-11-14T07:07:46.499293Z",
     "shell.execute_reply": "2022-11-14T07:07:46.498871Z",
     "shell.execute_reply.started": "2022-11-14T07:07:42.104399Z"
    },
    "tags": []
   },
   "outputs": [],
   "source": [
    "# Logistic Regression\n",
    "logreg = LogisticRegression(max_iter=3000)\n",
    "logreg.fit(x_train, y_train)\n",
    "\n",
    "y_pred = logreg.predict(x_test)\n",
    "\n",
    "print(\n",
    "    \"Test Accuracy:\",\n",
    "    metrics.accuracy_score(y_test, y_pred),\n",
    "    \"\\nTrain Accuracy: \",\n",
    "    metrics.accuracy_score(y_train, logreg.predict(x_train)),\n",
    ")\n",
    "\n",
    "# Confusion Matrix\n",
    "cnf_matrix = metrics.confusion_matrix(y_test, y_pred)\n",
    "\n",
    "class_names = [0, 1]\n",
    "fig, ax = plt.subplots()\n",
    "tick_marks = np.arange(len(class_names))\n",
    "plt.xticks(tick_marks, class_names)\n",
    "plt.yticks(tick_marks, class_names)\n",
    "sns.heatmap(pd.DataFrame(cnf_matrix), annot=True, cmap=\"YlGnBu\", fmt=\"g\", cbar=False)\n",
    "ax.xaxis.set_label_position(\"top\")\n",
    "plt.tight_layout()\n",
    "plt.ylabel(\"Actual label\", font1)\n",
    "plt.xlabel(\"Predicted label\", font1)\n",
    "\n",
    "\n",
    "plt.tick_params(labelsize=15)\n",
    "labels = ax.get_xticklabels() + ax.get_yticklabels()\n",
    "[label.set_fontname(\"Times New Roman\") for label in labels]\n",
    "\n",
    "plt.savefig(\"log_cm_undersampling.eps\", bbox_inches=\"tight\")\n",
    "\n",
    "plt.show()\n",
    "\n",
    "# Classification Report\n",
    "target_names = [\"Not Raining\", \"Raining\"]\n",
    "print(classification_report(y_test, y_pred, target_names=target_names))"
   ]
  },
  {
   "cell_type": "code",
   "execution_count": null,
   "id": "325cae1c-5205-4a86-8620-bddb19768daa",
   "metadata": {
    "execution": {
     "iopub.execute_input": "2022-11-14T07:33:48.794111Z",
     "iopub.status.busy": "2022-11-14T07:33:48.793239Z",
     "iopub.status.idle": "2022-11-14T07:33:48.807399Z",
     "shell.execute_reply": "2022-11-14T07:33:48.806559Z",
     "shell.execute_reply.started": "2022-11-14T07:33:48.794065Z"
    },
    "tags": []
   },
   "outputs": [],
   "source": [
    "for i in np.argsort(np.abs(logreg.coef_[0]))[-1:-11:-1]: \n",
    "    print(x_columns[i], logreg.coef_[0][i], np.abs(logreg.coef_[0][i]))"
   ]
  },
  {
   "cell_type": "code",
   "execution_count": null,
   "id": "2278f514",
   "metadata": {
    "ExecuteTime": {
     "end_time": "2022-11-07T20:15:35.298575Z",
     "start_time": "2022-11-07T20:15:35.147802Z"
    }
   },
   "outputs": [],
   "source": [
    "# SVM\n",
    "clf = svm.SVC(kernel=\"linear\")\n",
    "\n",
    "clf.fit(x_train, y_train)\n",
    "\n",
    "y_pred = clf.predict(x_test)\n",
    "\n",
    "print(\n",
    "    \"Test Accuracy:\",\n",
    "    metrics.accuracy_score(y_test, y_pred),\n",
    "    \"\\nTrain Accuracy: \",\n",
    "    metrics.accuracy_score(y_train, clf.predict(x_train)),\n",
    ")\n",
    "\n",
    "cnf_matrix = metrics.confusion_matrix(y_test, y_pred)\n",
    "\n",
    "class_names = [0, 1]\n",
    "fig, ax = plt.subplots()\n",
    "tick_marks = np.arange(len(class_names))\n",
    "plt.xticks(tick_marks, class_names)\n",
    "plt.yticks(tick_marks, class_names)\n",
    "sns.heatmap(pd.DataFrame(cnf_matrix), annot=True, cmap=\"YlGnBu\", fmt=\"g\", cbar=False)\n",
    "ax.xaxis.set_label_position(\"top\")\n",
    "plt.tight_layout()\n",
    "plt.ylabel(\"Actual label\", font1)\n",
    "plt.xlabel(\"Predicted label\", font1)\n",
    "\n",
    "\n",
    "plt.tick_params(labelsize=15)\n",
    "labels = ax.get_xticklabels() + ax.get_yticklabels()\n",
    "[label.set_fontname(\"Times New Roman\") for label in labels]\n",
    "\n",
    "plt.savefig(\"svm_cm_undersampling_pca.eps\", bbox_inches=\"tight\")\n",
    "\n",
    "plt.show()\n",
    "\n",
    "target_names = [\"Not Raining\", \"Raining\"]\n",
    "print(classification_report(y_test, y_pred, target_names=target_names))"
   ]
  },
  {
   "cell_type": "code",
   "execution_count": null,
   "id": "8a485780",
   "metadata": {
    "ExecuteTime": {
     "end_time": "2022-11-07T20:15:35.309613Z",
     "start_time": "2022-11-07T20:15:35.300886Z"
    }
   },
   "outputs": [],
   "source": [
    "# SVM with polynomial kernel\n",
    "clf = svm.SVC(kernel=\"poly\")\n",
    "\n",
    "clf.fit(x_train, y_train)\n",
    "\n",
    "y_pred = clf.predict(x_test)\n",
    "\n",
    "print(\n",
    "    \"Test Accuracy:\",\n",
    "    metrics.accuracy_score(y_test, y_pred),\n",
    "    \"\\nTrain Accuracy: \",\n",
    "    metrics.accuracy_score(y_train, clf.predict(x_train)),\n",
    ")\n",
    "\n",
    "cnf_matrix = metrics.confusion_matrix(y_test, y_pred)\n",
    "\n",
    "class_names = [0, 1]\n",
    "fig, ax = plt.subplots()\n",
    "tick_marks = np.arange(len(class_names))\n",
    "plt.xticks(tick_marks, class_names)\n",
    "plt.yticks(tick_marks, class_names)\n",
    "sns.heatmap(pd.DataFrame(cnf_matrix), annot=True, cmap=\"YlGnBu\", fmt=\"g\", cbar=False)\n",
    "ax.xaxis.set_label_position(\"top\")\n",
    "plt.tight_layout()\n",
    "plt.ylabel(\"Actual label\", font1)\n",
    "plt.xlabel(\"Predicted label\", font1)\n",
    "\n",
    "\n",
    "plt.tick_params(labelsize=15)\n",
    "labels = ax.get_xticklabels() + ax.get_yticklabels()\n",
    "[label.set_fontname(\"Times New Roman\") for label in labels]\n",
    "\n",
    "plt.savefig(\"svm_cm_undersampling_poly_pca.eps\", bbox_inches=\"tight\")\n",
    "\n",
    "plt.show()\n",
    "\n",
    "target_names = [\"Not Raining\", \"Raining\"]\n",
    "print(classification_report(y_test, y_pred, target_names=target_names))"
   ]
  },
  {
   "cell_type": "code",
   "execution_count": null,
   "id": "8a485780",
   "metadata": {
    "ExecuteTime": {
     "end_time": "2022-11-07T20:15:35.309613Z",
     "start_time": "2022-11-07T20:15:35.300886Z"
    }
   },
   "outputs": [],
   "source": [
    "# SVM with rbf kernel\n",
    "clf = svm.SVC(kernel=\"rbf\")\n",
    "\n",
    "clf.fit(x_train, y_train)\n",
    "\n",
    "y_pred = clf.predict(x_test)\n",
    "\n",
    "print(\n",
    "    \"Test Accuracy:\",\n",
    "    metrics.accuracy_score(y_test, y_pred),\n",
    "    \"\\nTrain Accuracy: \",\n",
    "    metrics.accuracy_score(y_train, clf.predict(x_train)),\n",
    ")\n",
    "\n",
    "cnf_matrix = metrics.confusion_matrix(y_test, y_pred)\n",
    "\n",
    "class_names = [0, 1]\n",
    "fig, ax = plt.subplots()\n",
    "tick_marks = np.arange(len(class_names))\n",
    "plt.xticks(tick_marks, class_names)\n",
    "plt.yticks(tick_marks, class_names)\n",
    "sns.heatmap(pd.DataFrame(cnf_matrix), annot=True, cmap=\"YlGnBu\", fmt=\"g\", cbar=False)\n",
    "ax.xaxis.set_label_position(\"top\")\n",
    "plt.tight_layout()\n",
    "plt.ylabel(\"Actual label\", font1)\n",
    "plt.xlabel(\"Predicted label\", font1)\n",
    "\n",
    "\n",
    "plt.tick_params(labelsize=15)\n",
    "labels = ax.get_xticklabels() + ax.get_yticklabels()\n",
    "[label.set_fontname(\"Times New Roman\") for label in labels]\n",
    "\n",
    "plt.savefig(\"svm_cm_undersampling_gauss_pca.eps\", bbox_inches=\"tight\")\n",
    "\n",
    "plt.show()\n",
    "\n",
    "target_names = [\"Not Raining\", \"Raining\"]\n",
    "print(classification_report(y_test, y_pred, target_names=target_names))"
   ]
  },
  {
   "cell_type": "code",
   "execution_count": 12,
   "id": "5ac7280d",
   "metadata": {
    "ExecuteTime": {
     "end_time": "2022-11-07T20:15:39.250870Z",
     "start_time": "2022-11-07T20:15:39.165543Z"
    }
   },
   "outputs": [
    {
     "name": "stdout",
     "output_type": "stream",
     "text": [
      "156/156 [==============================] - 0s 2ms/step\n",
      "Test Accuracy: 0.8036612351639509\n"
     ]
    },
    {
     "name": "stderr",
     "output_type": "stream",
     "text": [
      "The PostScript backend does not support transparency; partially transparent artists will be rendered opaque.\n"
     ]
    },
    {
     "data": {
      "image/png": "[encoded data removed]",
      "text/plain": [
       "<Figure size 432x288 with 1 Axes>"
      ]
     },
     "metadata": {
      "needs_background": "light"
     },
     "output_type": "display_data"
    }
   ],
   "source": [
    "# Split validation set\n",
    "x_val = x_train[:1000]\n",
    "partial_x_train = x_train[1000:]\n",
    "y_val = y_train.iloc[:1000]\n",
    "partial_y_train = y_train.iloc[1000:]\n",
    "\n",
    "epoch = 40\n",
    "\n",
    "# Build network\n",
    "model = keras.Sequential(\n",
    "    [\n",
    "        layers.Dense(64, activation=\"relu\",),\n",
    "        layers.Dropout(0.2),\n",
    "        layers.Dense(16, activation=\"relu\"),\n",
    "        layers.Dropout(0.1),\n",
    "        layers.Dense(1, activation=\"sigmoid\"),\n",
    "    ]\n",
    "\n",
    ")\n",
    "\n",
    "# Set optimizer, loss function and metrics\n",
    "model.compile(optimizer=\"rmsprop\", loss=\"binary_crossentropy\", metrics=[\"accuracy\"])\n",
    "\n",
    "# Train model\n",
    "history = model.fit(\n",
    "    partial_x_train,\n",
    "    partial_y_train,\n",
    "    epochs=epoch,\n",
    "    batch_size=256,\n",
    "    validation_data=(x_val, y_val),\n",
    "    verbose=0\n",
    ")\n",
    "\n",
    "# Calculate accuracy\n",
    "y_pred_proba = model.predict(x_test)\n",
    "\n",
    "y_pred = list()\n",
    "\n",
    "for i in y_pred_proba[:, 0]:\n",
    "    if i > 0.5:\n",
    "        y_pred.append(1)\n",
    "    else:\n",
    "        y_pred.append(0)\n",
    "\n",
    "print(\"Test Accuracy:\", metrics.accuracy_score(y_test, y_pred))\n",
    "\n",
    "# Plot training and validation loss\n",
    "history_dict = history.history\n",
    "loss_values = history_dict[\"loss\"]\n",
    "val_loss_values = history_dict[\"val_loss\"]\n",
    "epochs = range(1, len(loss_values) + 1)\n",
    "plt.plot(epochs, loss_values, \"r\", label=\"Training loss\")\n",
    "plt.plot(epochs, val_loss_values, \"b.\", label=\"Validation loss\")\n",
    "plt.title(\"Training and validation loss\")\n",
    "plt.xlabel(\"Epochs\")\n",
    "plt.ylabel(\"Loss\")\n",
    "plt.legend()\n",
    "plt.savefig(\"error_\"+str(epoch)+\".eps\", bbox_inches=\"tight\")\n",
    "plt.show()\n",
    "\n",
    "# # Retrain model with 20 epochs\n",
    "# model = keras.Sequential(\n",
    "#     [\n",
    "#         layers.Dense(64, activation=\"relu\",),\n",
    "#         layers.Dropout(0.2),\n",
    "#         layers.Dense(16, activation=\"relu\"),\n",
    "#         layers.Dropout(0.1),\n",
    "#         layers.Dense(1, activation=\"sigmoid\"),\n",
    "#     ]\n",
    "# )\n",
    "# model.compile(optimizer=\"rmsprop\", loss=\"binary_crossentropy\", metrics=[\"accuracy\"])\n",
    "\n",
    "# history = model.fit(\n",
    "#     partial_x_train,\n",
    "#     partial_y_train,\n",
    "#     epochs=20,\n",
    "#     batch_size=256,\n",
    "#     validation_data=(x_val, y_val),\n",
    "# )\n",
    "\n",
    "# y_pred_proba = model.predict(x_test)\n",
    "\n",
    "# y_pred = list()\n",
    "\n",
    "# for i in y_pred_proba[:, 0]:\n",
    "#     if i > 0.5:\n",
    "#         y_pred.append(1)\n",
    "#     else:\n",
    "#         y_pred.append(0)\n",
    "\n",
    "# print(\"Test Accuracy:\", metrics.accuracy_score(y_test, y_pred))\n",
    "\n",
    "# history_dict = history.history\n",
    "# loss_values = history_dict[\"loss\"]\n",
    "# val_loss_values = history_dict[\"val_loss\"]\n",
    "# epochs = range(1, len(loss_values) + 1)\n",
    "# plt.plot(epochs, loss_values, \"bo\", label=\"Training loss\")\n",
    "# plt.plot(epochs, val_loss_values, \"b\", label=\"Validation loss\")\n",
    "# plt.title(\"Training and validation loss\")\n",
    "# plt.xlabel(\"Epochs\")\n",
    "# plt.ylabel(\"Loss\")\n",
    "# plt.legend()\n",
    "# plt.savefig(\"error_20.eps\", bbox_inches=\"tight\")\n",
    "# plt.show()"
   ]
  },
  {
   "cell_type": "code",
   "execution_count": 13,
   "id": "ce042485",
   "metadata": {},
   "outputs": [
    {
     "name": "stdout",
     "output_type": "stream",
     "text": [
      "              precision    recall  f1-score   support\n",
      "\n",
      " Not Raining       0.81      0.79      0.80      2472\n",
      "     Raining       0.80      0.82      0.81      2499\n",
      "\n",
      "    accuracy                           0.80      4971\n",
      "   macro avg       0.80      0.80      0.80      4971\n",
      "weighted avg       0.80      0.80      0.80      4971\n",
      "\n"
     ]
    },
    {
     "data": {
      "image/png": "[encoded data removed]",
      "text/plain": [
       "<Figure size 432x288 with 1 Axes>"
      ]
     },
     "metadata": {
      "needs_background": "light"
     },
     "output_type": "display_data"
    }
   ],
   "source": [
    "target_names = [\"Not Raining\", \"Raining\"]\n",
    "print(classification_report(y_test, y_pred, target_names=target_names))\n",
    "\n",
    "cnf_matrix = metrics.confusion_matrix(y_test, y_pred)\n",
    "\n",
    "class_names = [0, 1]\n",
    "fig, ax = plt.subplots()\n",
    "tick_marks = np.arange(len(class_names))\n",
    "plt.xticks(tick_marks, class_names)\n",
    "plt.yticks(tick_marks, class_names)\n",
    "# create heatmap\n",
    "sns.heatmap(pd.DataFrame(cnf_matrix), annot=True, cmap=\"YlGnBu\", fmt=\"g\", cbar=False)\n",
    "ax.xaxis.set_label_position(\"top\")\n",
    "plt.tight_layout()\n",
    "plt.ylabel(\"Actual label\", font1)\n",
    "plt.xlabel(\"Predicted label\", font1)\n",
    "\n",
    "\n",
    "plt.tick_params(labelsize=15)\n",
    "labels = ax.get_xticklabels() + ax.get_yticklabels()\n",
    "[label.set_fontname(\"Times New Roman\") for label in labels]\n",
    "\n",
    "plt.savefig(\"NN_cm.eps\", bbox_inches=\"tight\")\n",
    "\n",
    "plt.show()"
   ]
  },
  {
   "cell_type": "code",
   "execution_count": 14,
   "id": "25146273",
   "metadata": {
    "ExecuteTime": {
     "end_time": "2022-11-07T20:15:39.309662Z",
     "start_time": "2022-11-07T20:15:39.262493Z"
    }
   },
   "outputs": [
    {
     "data": {
      "image/png": "[encoded data removed]",
      "text/plain": [
       "<IPython.core.display.Image object>"
      ]
     },
     "execution_count": 14,
     "metadata": {},
     "output_type": "execute_result"
    }
   ],
   "source": [
    "# Plot the Neural Network Structure\n",
    "plot_model(model, to_file=\"Network_structure.png\", show_shapes=True)"
   ]
  },
  {
   "cell_type": "code",
   "execution_count": null,
   "id": "c6190ff9-fecc-4581-bd1c-ac780bad36ed",
   "metadata": {},
   "outputs": [],
   "source": []
  }
 ],
 "metadata": {
  "kernelspec": {
   "display_name": "Python 3.9.13 ('env_project')",
   "language": "python",
   "name": "python3"
  },
  "language_info": {
   "codemirror_mode": {
    "name": "ipython",
    "version": 3
   },
   "file_extension": ".py",
   "mimetype": "text/x-python",
   "name": "python",
   "nbconvert_exporter": "python",
   "pygments_lexer": "ipython3",
   "version": "3.9.13"
  },
  "vscode": {
   "interpreter": {
    "hash": "20d169c8f3383972843a2ec99a9254daa6f07463b87b5214e8f06a7aa90f24a9"
   }
  }
 },
 "nbformat": 4,
 "nbformat_minor": 5
}
