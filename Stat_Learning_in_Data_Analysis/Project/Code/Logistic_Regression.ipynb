{
 "cells": [
  {
   "cell_type": "code",
   "execution_count": 1,
   "id": "b9130ec6",
   "metadata": {
    "ExecuteTime": {
     "end_time": "2022-11-07T20:15:34.895807Z",
     "start_time": "2022-11-07T20:15:34.541464Z"
    }
   },
   "outputs": [],
   "source": [
    "import numpy as np\n",
    "import pandas as pd\n",
    "import datetime"
   ]
  },
  {
   "cell_type": "code",
   "execution_count": 2,
   "id": "d18f9f14",
   "metadata": {
    "ExecuteTime": {
     "end_time": "2022-11-07T20:15:35.136373Z",
     "start_time": "2022-11-07T20:15:34.896859Z"
    }
   },
   "outputs": [],
   "source": [
    "path = \"/Users/zehao/Documents/GitHub/MS-Stat-Tulane/Stat Learning in Data Analysis/Project/data/weatherAUS.csv\"\n",
    "data = pd.read_csv(path, dtype={'Location': 'category',\n",
    "                                'WindGustDir': 'category',\n",
    "                                'WindDir9am': 'category',\n",
    "                                'WindDir3pm': 'category'})\n",
    "data[\"Date\"] = pd.to_datetime(data[\"Date\"])\n",
    "data = data.dropna(axis=0, subset=[\"RainTomorrow\", \"RainToday\"])\n",
    "data[['RainToday', 'RainTomorrow']] = data[[\n",
    "    'RainToday', 'RainTomorrow']].replace('Yes', 1)\n",
    "data[['RainToday', 'RainTomorrow']] = data[[\n",
    "    'RainToday', 'RainTomorrow']].replace('No', 0)"
   ]
  },
  {
   "cell_type": "code",
   "execution_count": 3,
   "id": "18017940",
   "metadata": {
    "ExecuteTime": {
     "end_time": "2022-11-07T20:15:35.144900Z",
     "start_time": "2022-11-07T20:15:35.138176Z"
    }
   },
   "outputs": [],
   "source": [
    "data[\"year\"] = pd.DatetimeIndex(data[\"Date\"]).year\n",
    "data[\"month\"] = pd.DatetimeIndex(data[\"Date\"]).month"
   ]
  },
  {
   "cell_type": "code",
   "execution_count": 4,
   "id": "2278f514",
   "metadata": {
    "ExecuteTime": {
     "end_time": "2022-11-07T20:15:35.298575Z",
     "start_time": "2022-11-07T20:15:35.147802Z"
    }
   },
   "outputs": [],
   "source": [
    "name = data.columns\n",
    "for j in name:\n",
    "    if data[j].dtypes == 'float64':\n",
    "        fillNA = data.groupby(['year', 'month'])[j].transform('median')\n",
    "        ind = data[j].isna()\n",
    "        data.loc[data[j].isna(), j] = fillNA[ind]\n",
    "    elif data[j].dtypes == 'category':\n",
    "        dummy = pd.get_dummies(data[j], prefix=j)\n",
    "        data = pd.concat([data, dummy], axis=1)\n",
    "        del data[j]\n",
    "del data['year']\n",
    "del data['month']"
   ]
  },
  {
   "cell_type": "code",
   "execution_count": 5,
   "id": "8a485780",
   "metadata": {
    "ExecuteTime": {
     "end_time": "2022-11-07T20:15:35.309613Z",
     "start_time": "2022-11-07T20:15:35.300886Z"
    }
   },
   "outputs": [],
   "source": [
    "x = data.iloc[:, 1:-1]\n",
    "del x['RainTomorrow']\n",
    "y = data['RainTomorrow']"
   ]
  },
  {
   "cell_type": "code",
   "execution_count": 6,
   "id": "cfc96679",
   "metadata": {
    "ExecuteTime": {
     "end_time": "2022-11-07T20:15:39.163088Z",
     "start_time": "2022-11-07T20:15:35.311801Z"
    }
   },
   "outputs": [
    {
     "name": "stdout",
     "output_type": "stream",
     "text": [
      "Optimization terminated successfully.\n",
      "         Current function value: 0.346586\n",
      "         Iterations 8\n"
     ]
    }
   ],
   "source": [
    "from sklearn.model_selection import train_test_split\n",
    "import statsmodels.api as sm\n",
    "\n",
    "x_train, x_test, y_train, y_test = train_test_split(x, y, test_size=0.2)\n",
    "logreg = sm.Logit(y_train, x_train)\n",
    "result = logreg.fit()"
   ]
  },
  {
   "cell_type": "code",
   "execution_count": 7,
   "id": "5ac7280d",
   "metadata": {
    "ExecuteTime": {
     "end_time": "2022-11-07T20:15:39.250870Z",
     "start_time": "2022-11-07T20:15:39.165543Z"
    }
   },
   "outputs": [],
   "source": [
    "train_error = logreg.predict(result.params, exog=x_train)\n",
    "ind_1 = train_error > 0.5\n",
    "ind_0 = train_error <= 0.5\n",
    "train_error[ind_1] = 1\n",
    "train_error[ind_0] = 0"
   ]
  },
  {
   "cell_type": "code",
   "execution_count": 8,
   "id": "25146273",
   "metadata": {
    "ExecuteTime": {
     "end_time": "2022-11-07T20:15:39.309662Z",
     "start_time": "2022-11-07T20:15:39.262493Z"
    }
   },
   "outputs": [
    {
     "data": {
      "text/plain": [
       "0.8501540455832868"
      ]
     },
     "execution_count": 8,
     "metadata": {},
     "output_type": "execute_result"
    }
   ],
   "source": [
    "1-np.mean(abs(train_error-y_train))"
   ]
  },
  {
   "cell_type": "code",
   "execution_count": 9,
   "id": "7f86037e",
   "metadata": {
    "ExecuteTime": {
     "end_time": "2022-11-07T20:15:39.331950Z",
     "start_time": "2022-11-07T20:15:39.314849Z"
    }
   },
   "outputs": [],
   "source": [
    "y_pred = logreg.predict(result.params, exog=x_test)"
   ]
  },
  {
   "cell_type": "code",
   "execution_count": 10,
   "id": "cfb35ab6",
   "metadata": {
    "ExecuteTime": {
     "end_time": "2022-11-07T20:15:39.351290Z",
     "start_time": "2022-11-07T20:15:39.342841Z"
    }
   },
   "outputs": [],
   "source": [
    "ind_1 = y_pred > 0.5\n",
    "ind_0 = y_pred <= 0.5\n",
    "y_pred[ind_1] = 1\n",
    "y_pred[ind_0] = 0"
   ]
  },
  {
   "cell_type": "code",
   "execution_count": 11,
   "id": "003d99f8",
   "metadata": {
    "ExecuteTime": {
     "end_time": "2022-11-07T20:15:39.378816Z",
     "start_time": "2022-11-07T20:15:39.363138Z"
    }
   },
   "outputs": [
    {
     "data": {
      "text/plain": [
       "0.8504510263513033"
      ]
     },
     "execution_count": 11,
     "metadata": {},
     "output_type": "execute_result"
    }
   ],
   "source": [
    "1-np.mean(abs(y_pred-y_test))"
   ]
  },
  {
   "cell_type": "code",
   "execution_count": 12,
   "id": "f681c2dd",
   "metadata": {
    "ExecuteTime": {
     "end_time": "2022-11-07T20:15:39.399110Z",
     "start_time": "2022-11-07T20:15:39.385706Z"
    }
   },
   "outputs": [
    {
     "data": {
      "text/plain": [
       "array([[20758,  1147],\n",
       "       [ 3064,  3189]])"
      ]
     },
     "execution_count": 12,
     "metadata": {},
     "output_type": "execute_result"
    }
   ],
   "source": [
    "from sklearn import metrics\n",
    "\n",
    "cnf_matrix = metrics.confusion_matrix(y_test, y_pred)\n",
    "cnf_matrix"
   ]
  },
  {
   "cell_type": "code",
   "execution_count": 24,
   "id": "01383bed",
   "metadata": {
    "ExecuteTime": {
     "end_time": "2022-11-07T20:23:00.061259Z",
     "start_time": "2022-11-07T20:22:59.947264Z"
    }
   },
   "outputs": [
    {
     "data": {
      "image/png": "[encoded data removed]",
      "text/plain": [
       "<Figure size 640x480 with 1 Axes>"
      ]
     },
     "metadata": {},
     "output_type": "display_data"
    }
   ],
   "source": [
    "import matplotlib.pyplot as plt\n",
    "import seaborn as sns\n",
    "\n",
    "font1 = {'family' : 'Times New Roman',\n",
    "'weight' : 'normal',\n",
    "'size'   : 16,\n",
    "}\n",
    "\n",
    "class_names=[0,1]\n",
    "fig, ax = plt.subplots()\n",
    "tick_marks = np.arange(len(class_names))\n",
    "plt.xticks(tick_marks, class_names)\n",
    "plt.yticks(tick_marks, class_names)\n",
    "# create heatmap\n",
    "sns.heatmap(pd.DataFrame(cnf_matrix), annot=True, cmap=\"YlGnBu\" ,fmt='g', cbar=False)\n",
    "ax.xaxis.set_label_position(\"top\")\n",
    "plt.tight_layout()\n",
    "plt.ylabel('Actual label', font1)\n",
    "plt.xlabel('Predicted label', font1)\n",
    "\n",
    "\n",
    "plt.tick_params(labelsize=15)\n",
    "labels = ax.get_xticklabels() + ax.get_yticklabels()\n",
    "[label.set_fontname('Times New Roman') for label in labels]\n",
    "\n",
    "plt.savefig('Logit_confusion_matrix.eps', bbox_inches = 'tight')\n",
    "\n",
    "plt.show()"
   ]
  },
  {
   "cell_type": "code",
   "execution_count": 14,
   "id": "0d4649b1",
   "metadata": {
    "ExecuteTime": {
     "end_time": "2022-11-07T20:15:39.950279Z",
     "start_time": "2022-11-07T20:15:39.913966Z"
    }
   },
   "outputs": [
    {
     "name": "stdout",
     "output_type": "stream",
     "text": [
      "              precision    recall  f1-score   support\n",
      "\n",
      " Not Raining       0.87      0.95      0.91     21905\n",
      "     Raining       0.74      0.51      0.60      6253\n",
      "\n",
      "    accuracy                           0.85     28158\n",
      "   macro avg       0.80      0.73      0.76     28158\n",
      "weighted avg       0.84      0.85      0.84     28158\n",
      "\n"
     ]
    }
   ],
   "source": [
    "from sklearn.metrics import classification_report\n",
    "target_names = ['Not Raining', 'Raining']\n",
    "print(classification_report(y_test, y_pred, target_names=target_names))"
   ]
  },
  {
   "cell_type": "code",
   "execution_count": 25,
   "id": "eb5d37cf",
   "metadata": {
    "ExecuteTime": {
     "end_time": "2022-11-07T20:40:30.776164Z",
     "start_time": "2022-11-07T20:40:30.511752Z"
    }
   },
   "outputs": [
    {
     "name": "stderr",
     "output_type": "stream",
     "text": [
      "The PostScript backend does not support transparency; partially transparent artists will be rendered opaque.\n"
     ]
    },
    {
     "data": {
      "image/png": "[encoded data removed]",
      "text/plain": [
       "<Figure size 640x480 with 1 Axes>"
      ]
     },
     "metadata": {},
     "output_type": "display_data"
    }
   ],
   "source": [
    "y_pred_proba = logreg.predict(result.params, exog=x_test)\n",
    "fpr, tpr, _ = metrics.roc_curve(y_test,  y_pred_proba)\n",
    "auc = metrics.roc_auc_score(y_test, y_pred_proba)\n",
    "plt.plot(fpr,tpr,label=\"Test Data, auc=\"+str(auc))\n",
    "plt.legend(loc=4)\n",
    "\n",
    "plt.tick_params(labelsize=15)\n",
    "labels = ax.get_xticklabels() + ax.get_yticklabels()\n",
    "[label.set_fontname('Times New Roman') for label in labels]\n",
    "\n",
    "plt.savefig('Roc.eps', bbox_inches = 'tight')\n",
    "\n",
    "plt.show()"
   ]
  },
  {
   "cell_type": "code",
   "execution_count": null,
   "id": "60778bc3",
   "metadata": {},
   "outputs": [],
   "source": []
  }
 ],
 "metadata": {
  "kernelspec": {
   "display_name": "Python 3 (ipykernel)",
   "language": "python",
   "name": "python3"
  },
  "language_info": {
   "codemirror_mode": {
    "name": "ipython",
    "version": 3
   },
   "file_extension": ".py",
   "mimetype": "text/x-python",
   "name": "python",
   "nbconvert_exporter": "python",
   "pygments_lexer": "ipython3",
   "version": "3.10.6"
  }
 },
 "nbformat": 4,
 "nbformat_minor": 5
}
